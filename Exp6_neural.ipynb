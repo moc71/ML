{
  "nbformat": 4,
  "nbformat_minor": 0,
  "metadata": {
    "colab": {
      "provenance": []
    },
    "kernelspec": {
      "name": "python3",
      "display_name": "Python 3"
    },
    "language_info": {
      "name": "python"
    }
  },
  "cells": [
    {
      "cell_type": "code",
      "execution_count": 1,
      "metadata": {
        "id": "9U08TR7oVOLJ"
      },
      "outputs": [],
      "source": [
        "import numpy as np"
      ]
    },
    {
      "cell_type": "code",
      "source": [
        "X=np.array([[1,0,1,0],[1,0,1,1],[0,1,0,1]])\n",
        "y=np.array([[1],[1],[0]])\n",
        "\n",
        "def sigmoid (x):\n",
        "    return 1/(1 + np.exp(-x))\n",
        "\n",
        "def derivatives_sigmoid(x):\n",
        "    return x * (1 - x)"
      ],
      "metadata": {
        "id": "lc3Kk4GIzSay"
      },
      "execution_count": 2,
      "outputs": []
    },
    {
      "cell_type": "code",
      "source": [
        "epoch=5000 #Setting training iterations\n",
        "lr=0.1 #Setting learning rate\n",
        "inputlayer_neurons = X.shape[1] #number of features in data set\n",
        "hiddenlayer_neurons = 3 #number of hidden layers neurons\n",
        "output_neurons = 1 #number of neurons at output layer\n",
        "wh=np.random.uniform(size=(inputlayer_neurons,hiddenlayer_neurons))\n",
        "bh=np.random.uniform(size=(1,hiddenlayer_neurons))\n",
        "wout=np.random.uniform(size=(hiddenlayer_neurons,output_neurons))\n",
        "bout=np.random.uniform(size=(1,output_neurons))"
      ],
      "metadata": {
        "id": "0ejyPOTyzZtJ"
      },
      "execution_count": 6,
      "outputs": []
    },
    {
      "cell_type": "code",
      "source": [
        "hidden_layer_input1=np.dot(X,wh)\n",
        "hidden_layer_input=hidden_layer_input1 + bh\n",
        "hiddenlayer_activations = sigmoid(hidden_layer_input)\n",
        "output_layer_input1=np.dot(hiddenlayer_activations,wout)\n",
        "output_layer_input= output_layer_input1+ bout\n",
        "output = sigmoid(output_layer_input)\n",
        "print(output)"
      ],
      "metadata": {
        "id": "5rVDwES6zejR",
        "colab": {
          "base_uri": "https://localhost:8080/"
        },
        "outputId": "cd08f87a-315b-47b2-f428-90901679fe49"
      },
      "execution_count": 5,
      "outputs": [
        {
          "output_type": "stream",
          "name": "stdout",
          "text": [
            "[[0.75397123]\n",
            " [0.76222058]\n",
            " [0.75341339]]\n"
          ]
        }
      ]
    }
  ]
}